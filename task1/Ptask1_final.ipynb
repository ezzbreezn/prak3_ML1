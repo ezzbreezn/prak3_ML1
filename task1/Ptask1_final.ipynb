{
 "cells": [
  {
   "cell_type": "markdown",
   "id": "a50283b0-1635-4df2-a938-b4643ccb8473",
   "metadata": {
    "id": "a50283b0-1635-4df2-a938-b4643ccb8473"
   },
   "source": [
    "# Задание 1. Метрические алгоритмы классификации\n",
    "## Задание по курсу \"Парктикум на ЭВМ\"\n",
    "Михеев Борис, 317 группа"
   ]
  },
  {
   "cell_type": "code",
   "execution_count": 1,
   "id": "6b1311d7-3d6e-4cb0-8211-bca45b0ceb8c",
   "metadata": {
    "id": "6b1311d7-3d6e-4cb0-8211-bca45b0ceb8c"
   },
   "outputs": [],
   "source": [
    "import numpy as np\n",
    "import time\n",
    "from nearest_neighbors import *\n",
    "from distances import *\n",
    "from cross_validation import *\n",
    "import matplotlib.pyplot as plt\n",
    "import pandas as pd\n",
    "import sklearn\n",
    "%matplotlib inline"
   ]
  },
  {
   "cell_type": "code",
   "execution_count": 2,
   "id": "pMvau47H01h6",
   "metadata": {
    "colab": {
     "base_uri": "https://localhost:8080/",
     "height": 75,
     "resources": {
      "http://localhost:8080/nbextensions/google.colab/files.js": {
       "data": "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",
       "headers": [
        [
         "content-type",
         "application/javascript"
        ]
       ],
       "ok": true,
       "status": 200,
       "status_text": "OK"
      }
     }
    },
    "id": "pMvau47H01h6",
    "outputId": "93d48b67-f95b-48e8-d70c-ee89964f5cd4"
   },
   "outputs": [
    {
     "data": {
      "text/html": [
       "\n",
       "     <input type=\"file\" id=\"files-2d09b536-4263-407a-8649-d4e6ae29c2a6\" name=\"files[]\" multiple disabled\n",
       "        style=\"border:none\" />\n",
       "     <output id=\"result-2d09b536-4263-407a-8649-d4e6ae29c2a6\">\n",
       "      Upload widget is only available when the cell has been executed in the\n",
       "      current browser session. Please rerun this cell to enable.\n",
       "      </output>\n",
       "      <script src=\"/nbextensions/google.colab/files.js\"></script> "
      ],
      "text/plain": [
       "<IPython.core.display.HTML object>"
      ]
     },
     "metadata": {},
     "output_type": "display_data"
    },
    {
     "name": "stdout",
     "output_type": "stream",
     "text": [
      "Saving mnist_784.csv to mnist_784.csv\n"
     ]
    }
   ],
   "source": [
    "from google.colab import files\n",
    "data_to_load = files.upload()"
   ]
  },
  {
   "cell_type": "markdown",
   "id": "54632170-3e1a-4b78-a717-6ff02a8bff65",
   "metadata": {
    "id": "54632170-3e1a-4b78-a717-6ff02a8bff65"
   },
   "source": [
    "Загрузим датасет, разобьем на обучающую и тестовую выборку:"
   ]
  },
  {
   "cell_type": "code",
   "execution_count": 3,
   "id": "1bfcbb17-de60-4698-8e4a-7941f8eb864c",
   "metadata": {
    "id": "1bfcbb17-de60-4698-8e4a-7941f8eb864c"
   },
   "outputs": [],
   "source": [
    "data = pd.read_csv('mnist_784.csv')\n",
    "X_train = data.iloc[:60000, :]\n",
    "y_train = X_train.pop('class')\n",
    "X_test = data.iloc[60000:, :]\n",
    "y_test = X_test.pop('class')\n",
    "target = data.pop('class')"
   ]
  },
  {
   "cell_type": "markdown",
   "id": "13c57ed1-ea72-4625-b5bf-e90c25737ef9",
   "metadata": {
    "id": "13c57ed1-ea72-4625-b5bf-e90c25737ef9"
   },
   "source": [
    "Сравним время работы различных алгоритмов. Будем искать 5 ближайших соседей для каждого обьекта тестовой выборки, расстояние будем считать по случайно выбранным подмножествам признаков размеров 10, 20, 100 по евклидовой метрике "
   ]
  },
  {
   "cell_type": "code",
   "execution_count": 23,
   "id": "a63d460a-2e1a-42af-8a13-602a22326b0d",
   "metadata": {
    "colab": {
     "base_uri": "https://localhost:8080/"
    },
    "id": "a63d460a-2e1a-42af-8a13-602a22326b0d",
    "outputId": "4beabe52-7b86-4834-a75e-5f698b0c1af4"
   },
   "outputs": [
    {
     "name": "stdout",
     "output_type": "stream",
     "text": [
      "my_own strategy:\n",
      "\n",
      "feature subset: ['pixel71', 'pixel13', 'pixel375', 'pixel410', 'pixel267', 'pixel379', 'pixel269', 'pixel583', 'pixel382', 'pixel194']\n",
      "size: 10\n",
      "time: 76.11378812789917\n",
      "\n",
      "feature subset: ['pixel30', 'pixel597', 'pixel631', 'pixel488', 'pixel723', 'pixel409', 'pixel635', 'pixel745', 'pixel620', 'pixel58', 'pixel691', 'pixel703', 'pixel205', 'pixel52', 'pixel772', 'pixel521', 'pixel776', 'pixel429', 'pixel261', 'pixel161']\n",
      "size: 20\n",
      "time: 82.52883982658386\n",
      "\n",
      "feature subset: ['pixel251', 'pixel59', 'pixel10', 'pixel712', 'pixel717', 'pixel266', 'pixel763', 'pixel15', 'pixel115', 'pixel56', 'pixel486', 'pixel127', 'pixel428', 'pixel129', 'pixel71', 'pixel210', 'pixel465', 'pixel23', 'pixel661', 'pixel275', 'pixel764', 'pixel297', 'pixel468', 'pixel172', 'pixel400', 'pixel554', 'pixel305', 'pixel132', 'pixel684', 'pixel411', 'pixel773', 'pixel253', 'pixel484', 'pixel451', 'pixel232', 'pixel669', 'pixel725', 'pixel49', 'pixel430', 'pixel371', 'pixel586', 'pixel709', 'pixel559', 'pixel52', 'pixel606', 'pixel32', 'pixel479', 'pixel632', 'pixel350', 'pixel220', 'pixel221', 'pixel608', 'pixel174', 'pixel630', 'pixel181', 'pixel186', 'pixel615', 'pixel577', 'pixel341', 'pixel642', 'pixel22', 'pixel146', 'pixel331', 'pixel498', 'pixel523', 'pixel329', 'pixel579', 'pixel767', 'pixel414', 'pixel600', 'pixel20', 'pixel229', 'pixel274', 'pixel729', 'pixel363', 'pixel373', 'pixel382', 'pixel6', 'pixel194', 'pixel657', 'pixel618', 'pixel276', 'pixel784', 'pixel544', 'pixel537', 'pixel519', 'pixel444', 'pixel722', 'pixel131', 'pixel458', 'pixel641', 'pixel724', 'pixel529', 'pixel706', 'pixel766', 'pixel385', 'pixel487', 'pixel650', 'pixel162', 'pixel407']\n",
      "size: 100\n",
      "time: 250.88724565505981\n",
      "\n",
      "brute strategy:\n",
      "\n",
      "feature subset: ['pixel71', 'pixel13', 'pixel375', 'pixel410', 'pixel267', 'pixel379', 'pixel269', 'pixel583', 'pixel382', 'pixel194']\n",
      "size: 10\n",
      "time: 10.783068418502808\n",
      "\n",
      "feature subset: ['pixel30', 'pixel597', 'pixel631', 'pixel488', 'pixel723', 'pixel409', 'pixel635', 'pixel745', 'pixel620', 'pixel58', 'pixel691', 'pixel703', 'pixel205', 'pixel52', 'pixel772', 'pixel521', 'pixel776', 'pixel429', 'pixel261', 'pixel161']\n",
      "size: 20\n",
      "time: 12.30903935432434\n",
      "\n",
      "feature subset: ['pixel251', 'pixel59', 'pixel10', 'pixel712', 'pixel717', 'pixel266', 'pixel763', 'pixel15', 'pixel115', 'pixel56', 'pixel486', 'pixel127', 'pixel428', 'pixel129', 'pixel71', 'pixel210', 'pixel465', 'pixel23', 'pixel661', 'pixel275', 'pixel764', 'pixel297', 'pixel468', 'pixel172', 'pixel400', 'pixel554', 'pixel305', 'pixel132', 'pixel684', 'pixel411', 'pixel773', 'pixel253', 'pixel484', 'pixel451', 'pixel232', 'pixel669', 'pixel725', 'pixel49', 'pixel430', 'pixel371', 'pixel586', 'pixel709', 'pixel559', 'pixel52', 'pixel606', 'pixel32', 'pixel479', 'pixel632', 'pixel350', 'pixel220', 'pixel221', 'pixel608', 'pixel174', 'pixel630', 'pixel181', 'pixel186', 'pixel615', 'pixel577', 'pixel341', 'pixel642', 'pixel22', 'pixel146', 'pixel331', 'pixel498', 'pixel523', 'pixel329', 'pixel579', 'pixel767', 'pixel414', 'pixel600', 'pixel20', 'pixel229', 'pixel274', 'pixel729', 'pixel363', 'pixel373', 'pixel382', 'pixel6', 'pixel194', 'pixel657', 'pixel618', 'pixel276', 'pixel784', 'pixel544', 'pixel537', 'pixel519', 'pixel444', 'pixel722', 'pixel131', 'pixel458', 'pixel641', 'pixel724', 'pixel529', 'pixel706', 'pixel766', 'pixel385', 'pixel487', 'pixel650', 'pixel162', 'pixel407']\n",
      "size: 100\n",
      "time: 14.429887533187866\n",
      "\n",
      "kd_tree strategy:\n",
      "\n",
      "feature subset: ['pixel71', 'pixel13', 'pixel375', 'pixel410', 'pixel267', 'pixel379', 'pixel269', 'pixel583', 'pixel382', 'pixel194']\n",
      "size: 10\n",
      "time: 5.758905410766602\n",
      "\n",
      "feature subset: ['pixel30', 'pixel597', 'pixel631', 'pixel488', 'pixel723', 'pixel409', 'pixel635', 'pixel745', 'pixel620', 'pixel58', 'pixel691', 'pixel703', 'pixel205', 'pixel52', 'pixel772', 'pixel521', 'pixel776', 'pixel429', 'pixel261', 'pixel161']\n",
      "size: 20\n",
      "time: 5.786811351776123\n",
      "\n",
      "feature subset: ['pixel251', 'pixel59', 'pixel10', 'pixel712', 'pixel717', 'pixel266', 'pixel763', 'pixel15', 'pixel115', 'pixel56', 'pixel486', 'pixel127', 'pixel428', 'pixel129', 'pixel71', 'pixel210', 'pixel465', 'pixel23', 'pixel661', 'pixel275', 'pixel764', 'pixel297', 'pixel468', 'pixel172', 'pixel400', 'pixel554', 'pixel305', 'pixel132', 'pixel684', 'pixel411', 'pixel773', 'pixel253', 'pixel484', 'pixel451', 'pixel232', 'pixel669', 'pixel725', 'pixel49', 'pixel430', 'pixel371', 'pixel586', 'pixel709', 'pixel559', 'pixel52', 'pixel606', 'pixel32', 'pixel479', 'pixel632', 'pixel350', 'pixel220', 'pixel221', 'pixel608', 'pixel174', 'pixel630', 'pixel181', 'pixel186', 'pixel615', 'pixel577', 'pixel341', 'pixel642', 'pixel22', 'pixel146', 'pixel331', 'pixel498', 'pixel523', 'pixel329', 'pixel579', 'pixel767', 'pixel414', 'pixel600', 'pixel20', 'pixel229', 'pixel274', 'pixel729', 'pixel363', 'pixel373', 'pixel382', 'pixel6', 'pixel194', 'pixel657', 'pixel618', 'pixel276', 'pixel784', 'pixel544', 'pixel537', 'pixel519', 'pixel444', 'pixel722', 'pixel131', 'pixel458', 'pixel641', 'pixel724', 'pixel529', 'pixel706', 'pixel766', 'pixel385', 'pixel487', 'pixel650', 'pixel162', 'pixel407']\n",
      "size: 100\n",
      "time: 183.85219597816467\n",
      "\n",
      "ball_tree strategy:\n",
      "\n",
      "feature subset: ['pixel71', 'pixel13', 'pixel375', 'pixel410', 'pixel267', 'pixel379', 'pixel269', 'pixel583', 'pixel382', 'pixel194']\n",
      "size: 10\n",
      "time: 8.852964401245117\n",
      "\n",
      "feature subset: ['pixel30', 'pixel597', 'pixel631', 'pixel488', 'pixel723', 'pixel409', 'pixel635', 'pixel745', 'pixel620', 'pixel58', 'pixel691', 'pixel703', 'pixel205', 'pixel52', 'pixel772', 'pixel521', 'pixel776', 'pixel429', 'pixel261', 'pixel161']\n",
      "size: 20\n",
      "time: 25.217153310775757\n",
      "\n",
      "feature subset: ['pixel251', 'pixel59', 'pixel10', 'pixel712', 'pixel717', 'pixel266', 'pixel763', 'pixel15', 'pixel115', 'pixel56', 'pixel486', 'pixel127', 'pixel428', 'pixel129', 'pixel71', 'pixel210', 'pixel465', 'pixel23', 'pixel661', 'pixel275', 'pixel764', 'pixel297', 'pixel468', 'pixel172', 'pixel400', 'pixel554', 'pixel305', 'pixel132', 'pixel684', 'pixel411', 'pixel773', 'pixel253', 'pixel484', 'pixel451', 'pixel232', 'pixel669', 'pixel725', 'pixel49', 'pixel430', 'pixel371', 'pixel586', 'pixel709', 'pixel559', 'pixel52', 'pixel606', 'pixel32', 'pixel479', 'pixel632', 'pixel350', 'pixel220', 'pixel221', 'pixel608', 'pixel174', 'pixel630', 'pixel181', 'pixel186', 'pixel615', 'pixel577', 'pixel341', 'pixel642', 'pixel22', 'pixel146', 'pixel331', 'pixel498', 'pixel523', 'pixel329', 'pixel579', 'pixel767', 'pixel414', 'pixel600', 'pixel20', 'pixel229', 'pixel274', 'pixel729', 'pixel363', 'pixel373', 'pixel382', 'pixel6', 'pixel194', 'pixel657', 'pixel618', 'pixel276', 'pixel784', 'pixel544', 'pixel537', 'pixel519', 'pixel444', 'pixel722', 'pixel131', 'pixel458', 'pixel641', 'pixel724', 'pixel529', 'pixel706', 'pixel766', 'pixel385', 'pixel487', 'pixel650', 'pixel162', 'pixel407']\n",
      "size: 100\n",
      "time: 200.53388833999634\n",
      "\n"
     ]
    }
   ],
   "source": [
    "feature_set = [(X_train.sample(i, axis=1).columns, i) for i in [10, 20, 100]]\n",
    "strategy_set = ['my_own', 'brute', 'kd_tree', 'ball_tree']\n",
    "for strategy in strategy_set:\n",
    "    print(f'{strategy} strategy:')\n",
    "    print('')\n",
    "    for fset, size in feature_set:\n",
    "        features = list(fset)\n",
    "        fset_show = False\n",
    "        if not fset_show:\n",
    "            print(f'feature subset: {features}')\n",
    "            fset_show = True\n",
    "        print(f'size: {size}')\n",
    "        clf = KNNClassifier(5, strategy, 'euclidean', False, 1000)\n",
    "        start = time.time()\n",
    "        res = clf.fit(X_train.loc[:, features].values, y_train.values)\n",
    "        clf.find_kneighbors(X_test.loc[:, features].values, False)\n",
    "        stop = time.time() - start\n",
    "        print(f'time: {stop}')\n",
    "        print('')"
   ]
  },
  {
   "cell_type": "markdown",
   "id": "m5lvLhnSf7MZ",
   "metadata": {
    "id": "m5lvLhnSf7MZ"
   },
   "source": [
    "Время работы стратегии my_own растет с ростом числа признаков. Стратегия brute работает за примерно одинаковое время, оно растет незначительно. Стратегия kd_tree при малом числе признаков работает несколько быстрее ball_tree, далее с ростом числа признаков разница во времени их работы становится более заметной, стретегия kd_tree оказывается быстрее. В целом самой вычислительно неэффективной является стратегия my_own. kd_tree и ball_tree являются самыми быстрыми при малом числе признаков, далее они работают дольше остальных стратегий."
   ]
  },
  {
   "cell_type": "markdown",
   "id": "JXvGx3jPV1jk",
   "metadata": {
    "id": "JXvGx3jPV1jk"
   },
   "source": [
    "Далее будем использовать стратегию brute как наиболее оптимальную."
   ]
  },
  {
   "cell_type": "markdown",
   "id": "2CbUi3fuWFC2",
   "metadata": {
    "id": "2CbUi3fuWFC2"
   },
   "source": [
    "Оценим по кросс-валидации с 3 фолдами точность и время работы алгоритма в зависимости от значения k и используемой метрики"
   ]
  },
  {
   "cell_type": "code",
   "execution_count": 24,
   "id": "xtxTYRtciNpE",
   "metadata": {
    "colab": {
     "base_uri": "https://localhost:8080/"
    },
    "id": "xtxTYRtciNpE",
    "outputId": "952c13de-c59a-4def-c4f2-4f451ace42f1"
   },
   "outputs": [
    {
     "name": "stdout",
     "output_type": "stream",
     "text": [
      "brute strategy:\n",
      "\n",
      "time: 188.85283374786377\n",
      "accuracy for k:\n",
      "k=1: [0.96895 0.96675 0.9667 ]\n",
      "k=2: [0.9603  0.95995 0.96125]\n",
      "k=3: [0.96955 0.96825 0.96715]\n",
      "k=4: [0.96705 0.9667  0.9671 ]\n",
      "k=5: [0.9681 0.9673 0.9672]\n",
      "k=6: [0.96555 0.96495 0.9657 ]\n",
      "k=7: [0.9652 0.965  0.9656]\n",
      "k=8: [0.96415 0.9639  0.96525]\n",
      "k=9: [0.9637  0.9632  0.96455]\n",
      "k=10: [0.96245 0.9622  0.9637 ]\n",
      "average accuracy:\n",
      "k=0: 0.9674666666666667\n",
      "k=1: 0.9605\n",
      "k=2: 0.9683166666666668\n",
      "k=3: 0.9669499999999999\n",
      "k=4: 0.9675333333333334\n",
      "k=5: 0.9653999999999999\n",
      "k=6: 0.9652666666666666\n",
      "k=7: 0.9644333333333334\n",
      "k=8: 0.9638166666666667\n",
      "k=9: 0.9627833333333333\n",
      "\n",
      "time: 192.81404781341553\n",
      "accuracy for k:\n",
      "k=1: [0.9733  0.9708  0.97045]\n",
      "k=2: [0.96895 0.9664  0.96775]\n",
      "k=3: [0.97365 0.97155 0.9709 ]\n",
      "k=4: [0.9725  0.97095 0.9722 ]\n",
      "k=5: [0.97275 0.97015 0.9716 ]\n",
      "k=6: [0.97195 0.9697  0.97215]\n",
      "k=7: [0.97125 0.96815 0.97075]\n",
      "k=8: [0.97125 0.96835 0.97155]\n",
      "k=9: [0.97005 0.967   0.9707 ]\n",
      "k=10: [0.96935 0.96615 0.9707 ]\n",
      "average accuracy:\n",
      "k=0: 0.9715166666666667\n",
      "k=1: 0.9677000000000001\n",
      "k=2: 0.9720333333333334\n",
      "k=3: 0.9718833333333333\n",
      "k=4: 0.9714999999999999\n",
      "k=5: 0.9712666666666667\n",
      "k=6: 0.97005\n",
      "k=7: 0.9703833333333334\n",
      "k=8: 0.9692500000000001\n",
      "k=9: 0.9687333333333333\n",
      "\n"
     ]
    }
   ],
   "source": [
    "k_set = np.arange(1, 11).astype('int64')\n",
    "metrics_set = ['euclidean', 'cosine']\n",
    "cv = kfold(X_train.shape[0], 3)\n",
    "accuracies = {}\n",
    "print('brute strategy:')\n",
    "print('')\n",
    "for metric in metrics_set:\n",
    "    params = {\n",
    "        'strategy':'brute',\n",
    "        'metric':metric,\n",
    "        'weights':False,\n",
    "        'test_block_size':1000\n",
    "    }\n",
    "    start = time.time()\n",
    "    res = knn_cross_val_score(X_train.values, y_train.values, k_set, 'accuracy', cv, **params)\n",
    "    stop = time.time() - start\n",
    "    print(f'time: {stop}')\n",
    "    accuracies[metric] = res\n",
    "    print('accuracy for k:')\n",
    "    #print(res)\n",
    "    for key in res:\n",
    "        print(f'k={key}: {res[key]}')\n",
    "    print('average accuracy:')\n",
    "    for idx, val in enumerate([row.mean() for row in accuracies[metric].values()]):\n",
    "        print(f'k={idx + 1}: {val}')\n",
    "    print('')"
   ]
  },
  {
   "cell_type": "markdown",
   "id": "GsMUPkcsV_ez",
   "metadata": {
    "id": "GsMUPkcsV_ez"
   },
   "source": [
    "Наилучшие значения достигаются при k=3. При использовании косинусной меры расстояния (cosine) значения accuracy несколько выше. Быстрее всего алгоритм работает для евклидовой метрики, несколько дольше для косинусной."
   ]
  },
  {
   "cell_type": "markdown",
   "id": "X5v3g0TiWKBY",
   "metadata": {
    "id": "X5v3g0TiWKBY"
   },
   "source": [
    "Рассмотрим взвешенный метод k ближайших соседей и сравним с методом без весов при одних и тех же остальных параметрах."
   ]
  },
  {
   "cell_type": "code",
   "execution_count": 26,
   "id": "uU78eWNoWQQf",
   "metadata": {
    "colab": {
     "base_uri": "https://localhost:8080/"
    },
    "id": "uU78eWNoWQQf",
    "outputId": "891ec528-3af3-4c42-cb2e-a8e151dea7f6"
   },
   "outputs": [
    {
     "name": "stdout",
     "output_type": "stream",
     "text": [
      "brute strategy:\n",
      "\n",
      "euclidean metric:\n",
      "\n",
      "without weights:\n",
      "\n",
      "time: 186.93339371681213\n",
      "accuracy for k:\n",
      "k=1: [0.96895 0.96675 0.9667 ]\n",
      "k=2: [0.9603  0.95995 0.96125]\n",
      "k=3: [0.96955 0.96825 0.96715]\n",
      "k=4: [0.96705 0.9667  0.9671 ]\n",
      "k=5: [0.9681 0.9673 0.9672]\n",
      "k=6: [0.96555 0.96495 0.9657 ]\n",
      "k=7: [0.9652 0.965  0.9656]\n",
      "k=8: [0.96415 0.9639  0.96525]\n",
      "k=9: [0.9637  0.9632  0.96455]\n",
      "k=10: [0.96245 0.9622  0.9637 ]\n",
      "average accuracy:\n",
      "k=0: 0.9674666666666667\n",
      "k=1: 0.9605\n",
      "k=2: 0.9683166666666668\n",
      "k=3: 0.9669499999999999\n",
      "k=4: 0.9675333333333334\n",
      "k=5: 0.9653999999999999\n",
      "k=6: 0.9652666666666666\n",
      "k=7: 0.9644333333333334\n",
      "k=8: 0.9638166666666667\n",
      "k=9: 0.9627833333333333\n",
      "\n",
      "with weights:\n",
      "\n",
      "time: 173.90227389335632\n",
      "accuracy for k:\n",
      "k=1: [0.96895 0.96675 0.9667 ]\n",
      "k=2: [0.96895 0.96675 0.9667 ]\n",
      "k=3: [0.97075 0.9691  0.96825]\n",
      "k=4: [0.9713 0.9698 0.9701]\n",
      "k=5: [0.96925 0.96825 0.96875]\n",
      "k=6: [0.9704  0.96845 0.96945]\n",
      "k=7: [0.96735 0.96595 0.967  ]\n",
      "k=8: [0.9676  0.96665 0.9678 ]\n",
      "k=9: [0.9651 0.9643 0.9657]\n",
      "k=10: [0.9647  0.96465 0.9657 ]\n",
      "average accuracy:\n",
      "k=0: 0.9674666666666667\n",
      "k=1: 0.9674666666666667\n",
      "k=2: 0.9693666666666667\n",
      "k=3: 0.9704\n",
      "k=4: 0.96875\n",
      "k=5: 0.9694333333333334\n",
      "k=6: 0.9667666666666667\n",
      "k=7: 0.96735\n",
      "k=8: 0.9650333333333334\n",
      "k=9: 0.9650166666666666\n",
      "\n",
      "cosine metric:\n",
      "\n",
      "without weights:\n",
      "\n",
      "time: 192.6477873325348\n",
      "accuracy for k:\n",
      "k=1: [0.9733  0.9708  0.97045]\n",
      "k=2: [0.96895 0.9664  0.96775]\n",
      "k=3: [0.97365 0.97155 0.9709 ]\n",
      "k=4: [0.9725  0.97095 0.9722 ]\n",
      "k=5: [0.97275 0.97015 0.9716 ]\n",
      "k=6: [0.97195 0.9697  0.97215]\n",
      "k=7: [0.97125 0.96815 0.97075]\n",
      "k=8: [0.97125 0.96835 0.97155]\n",
      "k=9: [0.97005 0.967   0.9707 ]\n",
      "k=10: [0.96935 0.96615 0.9707 ]\n",
      "average accuracy:\n",
      "k=0: 0.9715166666666667\n",
      "k=1: 0.9677000000000001\n",
      "k=2: 0.9720333333333334\n",
      "k=3: 0.9718833333333333\n",
      "k=4: 0.9714999999999999\n",
      "k=5: 0.9712666666666667\n",
      "k=6: 0.97005\n",
      "k=7: 0.9703833333333334\n",
      "k=8: 0.9692500000000001\n",
      "k=9: 0.9687333333333333\n",
      "\n",
      "with weights:\n",
      "\n",
      "time: 179.1373610496521\n",
      "accuracy for k:\n",
      "k=1: [0.9733  0.9708  0.97045]\n",
      "k=2: [0.9733  0.9708  0.97045]\n",
      "k=3: [0.97495 0.9725  0.97175]\n",
      "k=4: [0.97545 0.9732  0.97365]\n",
      "k=5: [0.974   0.97095 0.973  ]\n",
      "k=6: [0.97465 0.9714  0.97305]\n",
      "k=7: [0.9726  0.9693  0.97195]\n",
      "k=8: [0.97295 0.97045 0.9722 ]\n",
      "k=9: [0.97165 0.96865 0.97145]\n",
      "k=10: [0.97145 0.96855 0.9714 ]\n",
      "average accuracy:\n",
      "k=0: 0.9715166666666667\n",
      "k=1: 0.9715166666666667\n",
      "k=2: 0.9730666666666666\n",
      "k=3: 0.9741\n",
      "k=4: 0.9726499999999999\n",
      "k=5: 0.9730333333333334\n",
      "k=6: 0.9712833333333334\n",
      "k=7: 0.9718666666666667\n",
      "k=8: 0.9705833333333334\n",
      "k=9: 0.9704666666666667\n",
      "\n"
     ]
    }
   ],
   "source": [
    "k_set = np.arange(1, 11).astype('int64')\n",
    "metrics_set = ['euclidean', 'cosine']\n",
    "cv = kfold(X_train.shape[0], 3)\n",
    "accuracies = {}\n",
    "accuracies['no_weights'] = {}\n",
    "accuracies['with_weights'] = {}\n",
    "print('brute strategy:')\n",
    "print('')\n",
    "for metric in metrics_set:\n",
    "    print(f'{metric} metric:')\n",
    "    print('')\n",
    "    params = {\n",
    "        'strategy':'brute',\n",
    "        'metric':metric,\n",
    "        'weights':False,\n",
    "        'test_block_size':1000\n",
    "    }\n",
    "    start = time.time()\n",
    "    res = knn_cross_val_score(X_train.values, y_train.values, k_set, 'accuracy', cv, **params)\n",
    "    stop = time.time() - start\n",
    "    print('without weights:')\n",
    "    print('')\n",
    "    print(f'time: {stop}')\n",
    "    accuracies['no_weights'][metric] = res\n",
    "    print('accuracy for k:')\n",
    "    for key in res:\n",
    "        print(f'k={key}: {res[key]}')\n",
    "    print('average accuracy:')\n",
    "    for idx, val in enumerate([row.mean() for row in accuracies['no_weights'][metric].values()]):\n",
    "        print(f'k={idx}: {val}')\n",
    "    print('')\n",
    "    params['weights'] = True\n",
    "    start = time.time()\n",
    "    res = knn_cross_val_score(X_train.values, y_train.values.astype('int64'), k_set, 'accuracy', cv, **params)\n",
    "    stop = time.time() - start\n",
    "    print('with weights:')\n",
    "    print('')\n",
    "    print(f'time: {stop}')\n",
    "    accuracies['with_weights'][metric] = res\n",
    "    print('accuracy for k:')\n",
    "    for key in res:\n",
    "        print(f'k={key}: {res[key]}')\n",
    "    print('average accuracy:')\n",
    "    for idx, val in enumerate([row.mean() for row in accuracies['with_weights'][metric].values()]):\n",
    "        print(f'k={idx}: {val}')\n",
    "    print('')"
   ]
  },
  {
   "cell_type": "markdown",
   "id": "1YqRdTXpafeI",
   "metadata": {
    "id": "1YqRdTXpafeI"
   },
   "source": [
    "Взвешенный knn дает лучшие показатели accuracy в сравнении с невзвешенным на тех же наборах параметров."
   ]
  },
  {
   "cell_type": "markdown",
   "id": "rPSR7dvmar-k",
   "metadata": {
    "id": "rPSR7dvmar-k"
   },
   "source": [
    "Применим лучший из алгоритмов:"
   ]
  },
  {
   "cell_type": "code",
   "execution_count": 16,
   "id": "HQiZKzjhahoo",
   "metadata": {
    "colab": {
     "base_uri": "https://localhost:8080/"
    },
    "id": "HQiZKzjhahoo",
    "outputId": "03d65d2b-f76d-4227-8ea6-e170858a8bc0"
   },
   "outputs": [
    {
     "name": "stdout",
     "output_type": "stream",
     "text": [
      "on train data:\n",
      "time: 272.97872829437256\n",
      "accuracy: 1.0\n",
      "on test data:\n",
      "time: 44.62689256668091\n",
      "accuracy: 0.9752\n",
      "cross validation score: [0.9740857077126052]\n"
     ]
    }
   ],
   "source": [
    "params = {\n",
    "        'strategy':'brute',\n",
    "        'metric':'cosine',\n",
    "        'weights':True,\n",
    "        'test_block_size':1000\n",
    "    }\n",
    "clf = KNNClassifier(4, 'brute', 'cosine', True, 1000)\n",
    "clf.fit(X_train.values, y_train.values)\n",
    "print('on train data:')\n",
    "start = time.time()\n",
    "ans = clf.predict(X_train.values)\n",
    "stop = time.time() - start\n",
    "print(f'time: {stop}')\n",
    "accuracy = (ans == y_train.values.astype('int64')).sum() / y_train.shape[0]\n",
    "print(f'accuracy: {accuracy}')\n",
    "print('on test data:')\n",
    "start = time.time()\n",
    "ans = clf.predict(X_test.values)\n",
    "stop = time.time() - start\n",
    "print(f'time: {stop}')\n",
    "accuracy = (ans == y_test.values.astype('int64')).sum() / y_test.shape[0]\n",
    "print(f'accuracy: {accuracy}')\n",
    "cv = kfold(data.shape[0], 3)\n",
    "res = knn_cross_val_score(data.values, target.values.astype('int64'), [4], 'accuracy', cv, **params)\n",
    "cross_validation_score = [row.mean() for row in res.values()]\n",
    "print(f'cross validation score: {cross_validation_score}')"
   ]
  },
  {
   "cell_type": "markdown",
   "id": "4mPEwwsrdkIb",
   "metadata": {
    "id": "4mPEwwsrdkIb"
   },
   "source": [
    "Значение accuracy на тестовой выборке несколько выше, чем на кросс-валидации. "
   ]
  },
  {
   "cell_type": "markdown",
   "id": "iNfowqmZdqwA",
   "metadata": {
    "id": "iNfowqmZdqwA"
   },
   "source": [
    "Построим матрицу ошибок:"
   ]
  },
  {
   "cell_type": "code",
   "execution_count": 4,
   "id": "feBwVPYCdpk2",
   "metadata": {
    "id": "feBwVPYCdpk2"
   },
   "outputs": [],
   "source": [
    "from sklearn.metrics import confusion_matrix\n",
    "def show_confusion_matrix(y_true, y_pred):\n",
    "    conf_matrix = confusion_matrix(y_true, y_pred)\n",
    "    labels = np.unique(np.concatenate((y_true, y_pred), axis=0))\n",
    "    fig, ax = plt.subplots(figsize=(15, 15))\n",
    "    ax.imshow(conf_matrix, cmap=plt.cm.Oranges)\n",
    "    ax.set_xticks(np.arange(conf_matrix.shape[1]))\n",
    "    ax.set_yticks(np.arange(conf_matrix.shape[0]))\n",
    "    ax.set_xticklabels(labels)\n",
    "    ax.set_yticklabels(labels)\n",
    "    ax.set_ylabel('Истинный класс')\n",
    "    ax.set_xlabel('Предсказанный класс')\n",
    "    ax.set_label('Матрица ошибок')\n",
    "    for i in range(conf_matrix.shape[0]):\n",
    "        for j in range(conf_matrix.shape[1]):\n",
    "            ax.text(j, i, conf_matrix[i, j])\n",
    "\n",
    "    plt.savefig(fname='fig.pdf', format='pdf')\n"
   ]
  },
  {
   "cell_type": "code",
   "execution_count": 33,
   "id": "_LEd1jj5WUtH",
   "metadata": {
    "colab": {
     "base_uri": "https://localhost:8080/",
     "height": 870
    },
    "id": "_LEd1jj5WUtH",
    "outputId": "c1ec5da5-588c-4bac-d090-6e966319ca15"
   },
   "outputs": [
    {
     "data": {
      "image/png": "[encoded data removed]",
      "text/plain": [
       "<Figure size 1080x1080 with 1 Axes>"
      ]
     },
     "metadata": {
      "needs_background": "light"
     },
     "output_type": "display_data"
    }
   ],
   "source": [
    "show_confusion_matrix(y_test.values.astype('int64'), ans)"
   ]
  },
  {
   "cell_type": "markdown",
   "id": "otlvKOclVFx_",
   "metadata": {
    "id": "otlvKOclVFx_"
   },
   "source": [
    "Большинство объектов классифицировано верно, ложно классифицированных объектов мало, для каждого из классов количество неверных прогнозов незначительно по сравнению с размером самого класса. Это свидетельствует о хорошей точности алгоритма"
   ]
  },
  {
   "cell_type": "markdown",
   "id": "OvnxQfx-VyRC",
   "metadata": {
    "id": "OvnxQfx-VyRC"
   },
   "source": [
    "Рассмотрим несколько неверно классифицированных объектов из тестовой выборки. Для этого найдем индексы объектов, на которых были допущены ошибки, визуализируем их. Ошибки могут быть допущены на объектах (рукописных цифрах), похожих друг на друга в зависимости от написания, например, 1 и 7, 2 и 7, 4 и 9, 7 и 9, 5 и 3 и т. д. Это можно заметить и по матрице ошибок"
   ]
  },
  {
   "cell_type": "code",
   "execution_count": 17,
   "id": "xGgKstRiOQuh",
   "metadata": {
    "id": "xGgKstRiOQuh"
   },
   "outputs": [],
   "source": [
    "compare = (ans == y_test.values.astype('int64'))\n",
    "wrong = []\n",
    "for idx, correct in enumerate(compare):\n",
    "    if not correct and y_test.values.astype('int64')[idx] == 7 and ans[idx] == 1:\n",
    "        wrong.append(idx)"
   ]
  },
  {
   "cell_type": "code",
   "execution_count": 18,
   "id": "Y3_kE8P0YXBQ",
   "metadata": {
    "colab": {
     "base_uri": "https://localhost:8080/"
    },
    "id": "Y3_kE8P0YXBQ",
    "outputId": "7687fdda-0327-431e-ec82-45b759619c14"
   },
   "outputs": [
    {
     "name": "stdout",
     "output_type": "stream",
     "text": [
      "[551, 1260, 1500, 2607, 3808, 3838, 3976, 4837, 4886, 4966]\n"
     ]
    }
   ],
   "source": [
    "print(wrong)"
   ]
  },
  {
   "cell_type": "code",
   "execution_count": 19,
   "id": "xshVEsoiXlU0",
   "metadata": {
    "colab": {
     "base_uri": "https://localhost:8080/",
     "height": 265
    },
    "id": "xshVEsoiXlU0",
    "outputId": "a88ecefc-994f-4d99-e226-16a61e6eb2a6"
   },
   "outputs": [
    {
     "data": {
      "image/png": "[encoded data removed]",
      "text/plain": [
       "<Figure size 432x288 with 1 Axes>"
      ]
     },
     "metadata": {
      "needs_background": "light"
     },
     "output_type": "display_data"
    }
   ],
   "source": [
    "#Изображения в датасете MNIST имеют размер 28х28 пикселей\n",
    "plt.imshow(X_test.iloc[wrong[0]].values.reshape(28, 28), cmap='Greys')\n",
    "plt.savefig(fname='fig71.pdf', format='pdf')"
   ]
  },
  {
   "cell_type": "code",
   "execution_count": 20,
   "id": "6EoRfoSIYTmb",
   "metadata": {
    "colab": {
     "base_uri": "https://localhost:8080/",
     "height": 265
    },
    "id": "6EoRfoSIYTmb",
    "outputId": "240dd2d6-6112-40a6-ebbd-dfb76e92f6db"
   },
   "outputs": [
    {
     "data": {
      "image/png": "[encoded data removed]",
      "text/plain": [
       "<Figure size 432x288 with 1 Axes>"
      ]
     },
     "metadata": {
      "needs_background": "light"
     },
     "output_type": "display_data"
    }
   ],
   "source": [
    "plt.imshow(X_test.iloc[wrong[-1]].values.reshape(28, 28), cmap='Greys')\n",
    "plt.savefig(fname='fig72.pdf', format='pdf')"
   ]
  },
  {
   "cell_type": "code",
   "execution_count": 21,
   "id": "fwtm18YHZQ_A",
   "metadata": {
    "id": "fwtm18YHZQ_A"
   },
   "outputs": [],
   "source": [
    "wrong = []\n",
    "for idx, correct in enumerate(compare):\n",
    "    if not correct and y_test.values.astype('int64')[idx] == 7 and ans[idx] == 9:\n",
    "        wrong.append(idx)"
   ]
  },
  {
   "cell_type": "code",
   "execution_count": 22,
   "id": "oawN1LlZZoyo",
   "metadata": {
    "colab": {
     "base_uri": "https://localhost:8080/",
     "height": 265
    },
    "id": "oawN1LlZZoyo",
    "outputId": "8936eb91-ee1e-4ecd-9c9b-cdbc00228e4d"
   },
   "outputs": [
    {
     "data": {
      "image/png": "[encoded data removed]",
      "text/plain": [
       "<Figure size 432x288 with 1 Axes>"
      ]
     },
     "metadata": {
      "needs_background": "light"
     },
     "output_type": "display_data"
    }
   ],
   "source": [
    "plt.imshow(X_test.iloc[wrong[0]].values.reshape(28, 28), cmap='Greys')\n",
    "plt.savefig(fname='fig73.pdf', format='pdf')"
   ]
  },
  {
   "cell_type": "code",
   "execution_count": 23,
   "id": "zaj-9k4rZsSq",
   "metadata": {
    "colab": {
     "base_uri": "https://localhost:8080/",
     "height": 265
    },
    "id": "zaj-9k4rZsSq",
    "outputId": "c1c8ab81-4af0-450b-f2ce-b4849218a23d"
   },
   "outputs": [
    {
     "data": {
      "image/png": "[encoded data removed]",
      "text/plain": [
       "<Figure size 432x288 with 1 Axes>"
      ]
     },
     "metadata": {
      "needs_background": "light"
     },
     "output_type": "display_data"
    }
   ],
   "source": [
    "plt.imshow(X_test.iloc[wrong[-1]].values.reshape(28, 28), cmap='Greys')\n",
    "plt.savefig(fname='fig74.pdf', format='pdf')"
   ]
  },
  {
   "cell_type": "code",
   "execution_count": 24,
   "id": "1Q4AlxOCZuYu",
   "metadata": {
    "id": "1Q4AlxOCZuYu"
   },
   "outputs": [],
   "source": [
    "wrong = []\n",
    "for idx, correct in enumerate(compare):\n",
    "    if not correct and y_test.values.astype('int64')[idx] == 5 and ans[idx] == 3:\n",
    "        wrong.append(idx)"
   ]
  },
  {
   "cell_type": "code",
   "execution_count": 25,
   "id": "2_BzlDjDaGAV",
   "metadata": {
    "colab": {
     "base_uri": "https://localhost:8080/",
     "height": 265
    },
    "id": "2_BzlDjDaGAV",
    "outputId": "8edf2e3f-e041-4823-f1b2-3bb379ed3173"
   },
   "outputs": [
    {
     "data": {
      "image/png": "[encoded data removed]",
      "text/plain": [
       "<Figure size 432x288 with 1 Axes>"
      ]
     },
     "metadata": {
      "needs_background": "light"
     },
     "output_type": "display_data"
    }
   ],
   "source": [
    "plt.imshow(X_test.iloc[wrong[0]].values.reshape(28, 28), cmap='Greys')\n",
    "plt.savefig(fname='fig51.pdf', format='pdf')"
   ]
  },
  {
   "cell_type": "code",
   "execution_count": 26,
   "id": "WPoR2UFcaIcH",
   "metadata": {
    "colab": {
     "base_uri": "https://localhost:8080/",
     "height": 265
    },
    "id": "WPoR2UFcaIcH",
    "outputId": "5316bcab-271e-4136-c510-5da58dd03627"
   },
   "outputs": [
    {
     "data": {
      "image/png": "[encoded data removed]",
      "text/plain": [
       "<Figure size 432x288 with 1 Axes>"
      ]
     },
     "metadata": {
      "needs_background": "light"
     },
     "output_type": "display_data"
    }
   ],
   "source": [
    "plt.imshow(X_test.iloc[wrong[-1]].values.reshape(28, 28), cmap='Greys')\n",
    "plt.savefig(fname='fig52.pdf', format='pdf')"
   ]
  },
  {
   "cell_type": "code",
   "execution_count": 27,
   "id": "sH5mSyMSUt4u",
   "metadata": {
    "id": "sH5mSyMSUt4u"
   },
   "outputs": [],
   "source": [
    "wrong = []\n",
    "for idx, correct in enumerate(compare):\n",
    "    if not correct and y_test.values.astype('int64')[idx] == 4 and ans[idx] == 9:\n",
    "        wrong.append(idx)"
   ]
  },
  {
   "cell_type": "code",
   "execution_count": 28,
   "id": "O2-LsUrPUzpl",
   "metadata": {
    "colab": {
     "base_uri": "https://localhost:8080/",
     "height": 265
    },
    "id": "O2-LsUrPUzpl",
    "outputId": "1f59b500-5402-40a5-ac3e-c2cd46336bbe"
   },
   "outputs": [
    {
     "data": {
      "image/png": "[encoded data removed]",
      "text/plain": [
       "<Figure size 432x288 with 1 Axes>"
      ]
     },
     "metadata": {
      "needs_background": "light"
     },
     "output_type": "display_data"
    }
   ],
   "source": [
    "plt.imshow(X_test.iloc[wrong[0]].values.reshape(28, 28), cmap='Greys')\n",
    "plt.savefig(fname='fig41.pdf', format='pdf')"
   ]
  },
  {
   "cell_type": "code",
   "execution_count": 29,
   "id": "JHZs-KsNU25K",
   "metadata": {
    "colab": {
     "base_uri": "https://localhost:8080/",
     "height": 265
    },
    "id": "JHZs-KsNU25K",
    "outputId": "054fc4ff-836e-4248-d25c-5ff551d3a797"
   },
   "outputs": [
    {
     "data": {
      "image/png": "[encoded data removed]",
      "text/plain": [
       "<Figure size 432x288 with 1 Axes>"
      ]
     },
     "metadata": {
      "needs_background": "light"
     },
     "output_type": "display_data"
    }
   ],
   "source": [
    "plt.imshow(X_test.iloc[wrong[-1]].values.reshape(28, 28), cmap='Greys')\n",
    "plt.savefig(fname='fig42.pdf', format='pdf')"
   ]
  },
  {
   "cell_type": "markdown",
   "id": "cG-X7mlgZxEf",
   "metadata": {
    "id": "cG-X7mlgZxEf"
   },
   "source": [
    "Соответствующие объекты действительно имеют схожие черты обоих видов соответствующих цифр"
   ]
  },
  {
   "cell_type": "markdown",
   "id": "o86TzvrFaSkG",
   "metadata": {
    "id": "o86TzvrFaSkG"
   },
   "source": [
    "Размножим объекты обучающей выборки при помощи смещений, поворотов и использования гауссовского фильтра. Воспользуемся библиотекой skimage"
   ]
  },
  {
   "cell_type": "code",
   "execution_count": 5,
   "id": "kQRsCPMuaKqL",
   "metadata": {
    "id": "kQRsCPMuaKqL"
   },
   "outputs": [],
   "source": [
    "from skimage.filters import gaussian\n",
    "from skimage.transform import rotate\n",
    "from skimage.transform import SimilarityTransform\n",
    "from skimage.transform import warp"
   ]
  },
  {
   "cell_type": "markdown",
   "id": "39uj0OfKkhEQ",
   "metadata": {
    "id": "39uj0OfKkhEQ"
   },
   "source": [
    "Для наглядности приведем некоторые примеры преобразований"
   ]
  },
  {
   "cell_type": "code",
   "execution_count": 45,
   "id": "PS4LONOAksYG",
   "metadata": {
    "colab": {
     "base_uri": "https://localhost:8080/",
     "height": 282
    },
    "id": "PS4LONOAksYG",
    "outputId": "a390df2a-35f3-444d-9d26-483bd5aae2ea"
   },
   "outputs": [
    {
     "data": {
      "text/plain": [
       "<matplotlib.image.AxesImage at 0x7ff747c2c350>"
      ]
     },
     "execution_count": 45,
     "metadata": {},
     "output_type": "execute_result"
    },
    {
     "data": {
      "image/png": "[encoded data removed]",
      "text/plain": [
       "<Figure size 432x288 with 1 Axes>"
      ]
     },
     "metadata": {
      "needs_background": "light"
     },
     "output_type": "display_data"
    }
   ],
   "source": [
    "plt.imshow(X_train.iloc[200].values.reshape((28, 28)), cmap='Greys')"
   ]
  },
  {
   "cell_type": "code",
   "execution_count": 46,
   "id": "9xsp9aR2iNe-",
   "metadata": {
    "colab": {
     "base_uri": "https://localhost:8080/",
     "height": 282
    },
    "id": "9xsp9aR2iNe-",
    "outputId": "40705996-2318-4c79-e014-cfbdef9c623b"
   },
   "outputs": [
    {
     "data": {
      "text/plain": [
       "<matplotlib.image.AxesImage at 0x7ff747a0dad0>"
      ]
     },
     "execution_count": 46,
     "metadata": {},
     "output_type": "execute_result"
    },
    {
     "data": {
      "image/png": "[encoded data removed]",
      "text/plain": [
       "<Figure size 432x288 with 1 Axes>"
      ]
     },
     "metadata": {
      "needs_background": "light"
     },
     "output_type": "display_data"
    }
   ],
   "source": [
    "shifted = warp(X_train.iloc[200].values.reshape((28, 28)), SimilarityTransform(translation=(10,3)))\n",
    "plt.imshow(shifted, cmap='Greys')"
   ]
  },
  {
   "cell_type": "code",
   "execution_count": 47,
   "id": "rR2_O87vixmM",
   "metadata": {
    "colab": {
     "base_uri": "https://localhost:8080/",
     "height": 282
    },
    "id": "rR2_O87vixmM",
    "outputId": "87c26486-716a-4ecc-8ba8-8bed12597061"
   },
   "outputs": [
    {
     "data": {
      "text/plain": [
       "<matplotlib.image.AxesImage at 0x7ff747a16f10>"
      ]
     },
     "execution_count": 47,
     "metadata": {},
     "output_type": "execute_result"
    },
    {
     "data": {
      "image/png": "[encoded data removed]",
      "text/plain": [
       "<Figure size 432x288 with 1 Axes>"
      ]
     },
     "metadata": {
      "needs_background": "light"
     },
     "output_type": "display_data"
    }
   ],
   "source": [
    "rotated = rotate(X_train.iloc[200].values.reshape((28, 28)), 45)\n",
    "plt.imshow(rotated, cmap='Greys')"
   ]
  },
  {
   "cell_type": "code",
   "execution_count": 48,
   "id": "7XeR6PL_lTfJ",
   "metadata": {
    "colab": {
     "base_uri": "https://localhost:8080/",
     "height": 282
    },
    "id": "7XeR6PL_lTfJ",
    "outputId": "a0636edb-daa7-41ef-f856-3bbcb9173931"
   },
   "outputs": [
    {
     "data": {
      "text/plain": [
       "<matplotlib.image.AxesImage at 0x7ff7479bcd10>"
      ]
     },
     "execution_count": 48,
     "metadata": {},
     "output_type": "execute_result"
    },
    {
     "data": {
      "image/png": "[encoded data removed]",
      "text/plain": [
       "<Figure size 432x288 with 1 Axes>"
      ]
     },
     "metadata": {
      "needs_background": "light"
     },
     "output_type": "display_data"
    }
   ],
   "source": [
    "filtered = gaussian(X_train.iloc[200].values.reshape((28, 28)), sigma=1.5, preserve_range=True)\n",
    "plt.imshow(filtered, cmap='Greys')"
   ]
  },
  {
   "cell_type": "markdown",
   "id": "vvhpCFIxVsAt",
   "metadata": {
    "id": "vvhpCFIxVsAt"
   },
   "source": [
    "Рассмотрим различные комбинации преобразований изображений. Выберем случайно изображения из обучающей выборки, преобразуем их, добавим к исходной обучающей выборке и перемешаем их между собой"
   ]
  },
  {
   "cell_type": "code",
   "execution_count": 8,
   "id": "tDO-ZdgLmOJV",
   "metadata": {
    "colab": {
     "base_uri": "https://localhost:8080/"
    },
    "id": "tDO-ZdgLmOJV",
    "outputId": "99b8353a-11d2-475c-ea2b-edf62b2a11b7"
   },
   "outputs": [
    {
     "name": "stdout",
     "output_type": "stream",
     "text": [
      "(5, 1, -3, 0.5)\n",
      "0.9882\n",
      "(5, 2, 2, 0.5)\n",
      "0.9886333333333334\n",
      "(5, 2, -1, 1.5)\n",
      "0.9800666666666666\n",
      "(5, 3, -1, 1.5)\n",
      "0.9805999999999999\n",
      "(5, -2, -2, 1.5)\n",
      "0.97955\n",
      "(5, -3, 3, 1)\n",
      "0.9869166666666667\n",
      "(5, -3, -2, 0.5)\n",
      "0.9888833333333333\n",
      "(10, 2, -3, 1)\n",
      "0.9815666666666667\n",
      "(10, -1, 2, 1.5)\n",
      "0.9772500000000001\n",
      "(10, -1, -3, 1.5)\n",
      "0.9761666666666667\n",
      "(10, -2, -1, 0.5)\n",
      "0.9850166666666667\n",
      "(10, -2, -2, 1)\n",
      "0.9817\n",
      "(10, -3, 2, 1.5)\n",
      "0.9767833333333332\n",
      "(15, 1, -1, 0.5)\n",
      "0.983\n",
      "(15, 2, 1, 0.5)\n",
      "0.9806166666666667\n",
      "(15, 2, -1, 1.5)\n",
      "0.9727833333333332\n",
      "(15, 2, -2, 1)\n",
      "0.9778500000000001\n",
      "(15, 3, -1, 0.5)\n",
      "0.9800999999999999\n",
      "(15, -2, 1, 0.5)\n",
      "0.9810833333333333\n",
      "(15, -2, 3, 1.5)\n",
      "0.9738000000000001\n",
      "(15, -2, -2, 0.5)\n",
      "0.9802166666666666\n",
      "(15, -3, 2, 1)\n",
      "0.9777333333333332\n",
      "(15, -3, -1, 0.5)\n",
      "0.9801333333333333\n",
      "(-5, 3, 3, 1.5)\n",
      "0.9801833333333333\n",
      "(-5, -1, -1, 1.5)\n",
      "0.9808\n",
      "(-5, -1, -2, 0.5)\n",
      "0.9879333333333333\n",
      "(-5, -3, 1, 0.5)\n",
      "0.9882333333333334\n",
      "(-5, -3, -1, 1)\n",
      "0.9871666666666666\n",
      "(-5, -3, -2, 1)\n",
      "0.9867666666666667\n",
      "(-5, -3, -3, 1.5)\n",
      "0.9806833333333334\n",
      "(-10, 1, 1, 1.5)\n",
      "0.9785833333333334\n",
      "(-10, 1, 2, 1)\n",
      "0.9813833333333334\n",
      "(-10, 1, 3, 0.5)\n",
      "0.9846666666666666\n",
      "(-10, 2, 1, 0.5)\n",
      "0.9842666666666666\n",
      "(-10, 2, 3, 1.5)\n",
      "0.97675\n",
      "(-10, 3, -1, 1)\n",
      "0.9824999999999999\n",
      "(-10, -2, 2, 1)\n",
      "0.9813166666666667\n",
      "(-10, -3, -1, 1)\n",
      "0.9824833333333333\n",
      "(-10, -3, -2, 1)\n",
      "0.9816166666666666\n",
      "(-15, 1, 2, 0.5)\n",
      "0.9803000000000001\n",
      "(-15, 1, 2, 1)\n",
      "0.9775\n",
      "(-15, 1, 3, 0.5)\n",
      "0.9808\n",
      "(-15, 2, 1, 0.5)\n",
      "0.9812499999999998\n",
      "(-15, 2, 3, 0.5)\n",
      "0.9809333333333333\n",
      "(-15, 3, -1, 1.5)\n",
      "0.9727333333333333\n",
      "(-15, -1, 2, 0.5)\n",
      "0.98115\n",
      "(-15, -2, 1, 1.5)\n",
      "0.9735666666666667\n",
      "(-15, -3, 1, 1.5)\n",
      "0.9722666666666666\n",
      "\n",
      "best set:\n",
      "(5, -3, -2, 0.5)\n",
      "best accuracy:\n",
      "0.9888833333333333\n"
     ]
    }
   ],
   "source": [
    "samples_idx = np.random.randint(X_train.shape[0], size=15000)\n",
    "angles_set = [5, 10, 15, -5, -10, -15]\n",
    "x_shifts_set = [1, 2, 3, -1, -2, -3]\n",
    "y_shifts_set = [1, 2, 3, -1, -2, -3]\n",
    "disps_set = [0.5, 1, 1.5]\n",
    "accuracies = []\n",
    "sets = []\n",
    "import itertools\n",
    "permutations_size = len(list(itertools.product(angles_set, x_shifts_set, y_shifts_set, disps_set)))\n",
    "permutations_idx = np.random.randint(permutations_size, size=50)\n",
    "shift_transform = np.vectorize(warp, signature='(n,m)->(n,m)', excluded=['inverse_map'])\n",
    "rotate_transform = np.vectorize(rotate, signature='(n,m)->(n,m)', excluded=['angle'])\n",
    "gauss_transform = np.vectorize(gaussian, signature='(n,m)->(n,m)', excluded=['sigma'])\n",
    "for idx, param_set in enumerate(itertools.product(angles_set, x_shifts_set, y_shifts_set, disps_set)):\n",
    "    if idx not in permutations_idx:\n",
    "        continue\n",
    "    source = X_train.iloc[samples_idx].copy(deep=True)\n",
    "    processed = np.apply_along_axis(np.reshape, 1, source, (28, 28))\n",
    "    shifted_pics = shift_transform(processed, inverse_map=SimilarityTransform(translation=(param_set[1], param_set[2]))).reshape((processed.shape[0], 28 * 28))\n",
    "    rotated_pics = rotate_transform(processed, angle=param_set[0]).reshape((processed.shape[0], 28 * 28))\n",
    "    filtered_pics = gauss_transform(processed, sigma=param_set[3]).reshape((processed.shape[0], 28 * 28))\n",
    "    X_train_aug = np.concatenate((source.values, shifted_pics, rotated_pics, filtered_pics), axis=0)\n",
    "    y_train_aug = np.concatenate((\n",
    "        y_train.iloc[samples_idx].values, \n",
    "        y_train.iloc[samples_idx].values, \n",
    "        y_train.iloc[samples_idx].values, \n",
    "        y_train.iloc[samples_idx].values), \n",
    "        axis=0)\n",
    "    shuffle_idx = np.random.permutation(X_train_aug.shape[0])\n",
    "    cv = kfold(X_train_aug[shuffle_idx].shape[0], 3)\n",
    "    params = {\n",
    "        'strategy':'brute',\n",
    "        'metric':'cosine',\n",
    "        'weights':True,\n",
    "        'test_block_size':1000\n",
    "    }\n",
    "    res = knn_cross_val_score(X_train_aug[shuffle_idx], y_train_aug[shuffle_idx].astype('int64'), [4], 'accuracy', cv, **params)\n",
    "    accuracies.append(res[4].mean())\n",
    "    sets.append(param_set)\n",
    "\n",
    "for i in range(len(sets)):\n",
    "    print(sets[i])\n",
    "    print(accuracies[i])\n",
    "\n",
    "print('')\n",
    "print('best set:')\n",
    "best_idx = np.argmax(accuracies)\n",
    "print(sets[best_idx])\n",
    "print('best accuracy:')\n",
    "print(accuracies[best_idx])"
   ]
  },
  {
   "cell_type": "markdown",
   "id": "jXNgOd04r-Nw",
   "metadata": {
    "id": "jXNgOd04r-Nw"
   },
   "source": [
    "При применении аугментации обучающей выборки качество классификации выше, чем на исходных данных, даже при случайной выборке параметров преобразований и объектов выборки. Наилучшее значение accuracy=0.9884333333333334 достигается на наборе параметров (-5, -1, 2, 0.5)"
   ]
  },
  {
   "cell_type": "markdown",
   "id": "Q6OnGy9wsEFB",
   "metadata": {
    "id": "Q6OnGy9wsEFB"
   },
   "source": [
    "Применим найденные параметры к алгоритму и проанализируем результат"
   ]
  },
  {
   "cell_type": "code",
   "execution_count": 11,
   "id": "GPUTVGLRr_4v",
   "metadata": {
    "colab": {
     "base_uri": "https://localhost:8080/"
    },
    "id": "GPUTVGLRr_4v",
    "outputId": "33ad6f0a-d84b-4231-dc0b-8d82c1731df0"
   },
   "outputs": [
    {
     "name": "stdout",
     "output_type": "stream",
     "text": [
      "accuracy with train augmentation: 0.9777\n"
     ]
    }
   ],
   "source": [
    "best_set = (5, -1, 2, 0.5)\n",
    "clf = KNNClassifier(4, 'brute', 'cosine', True, 1000)\n",
    "source = X_train.copy(deep=True)\n",
    "processed = np.apply_along_axis(np.reshape, 1, source, (28, 28))\n",
    "shifted_pics = shift_transform(processed, inverse_map=SimilarityTransform(translation=(best_set[1], best_set[2]))).reshape((processed.shape[0], 28 * 28))\n",
    "rotated_pics = rotate_transform(processed, angle=best_set[0]).reshape((processed.shape[0], 28 * 28))\n",
    "filtered_pics = gauss_transform(processed, sigma=best_set[3]).reshape((processed.shape[0], 28 * 28))\n",
    "X_train_aug = np.concatenate((source.values, shifted_pics, rotated_pics, filtered_pics), axis=0)\n",
    "y_train_aug = np.concatenate((y_train.values, y_train.values, y_train.values, y_train.values), axis=0)\n",
    "shuffle_idx = np.random.permutation(X_train_aug.shape[0])\n",
    "clf.fit(X_train_aug[shuffle_idx], y_train_aug[shuffle_idx])\n",
    "ans = clf.predict(X_test.values)\n",
    "accuracy = (ans == y_test.values.astype('int64')).sum() / y_test.shape[0]\n",
    "print(f'accuracy with train augmentation: {accuracy}')"
   ]
  },
  {
   "cell_type": "markdown",
   "id": "YwX4zUSCuXXf",
   "metadata": {
    "id": "YwX4zUSCuXXf"
   },
   "source": [
    "Точность классификации увеличилась. Проанализируем матрицу ошибок."
   ]
  },
  {
   "cell_type": "code",
   "execution_count": 12,
   "id": "A5yEbHn0uP_p",
   "metadata": {
    "colab": {
     "base_uri": "https://localhost:8080/",
     "height": 870
    },
    "id": "A5yEbHn0uP_p",
    "outputId": "5d660d56-63a7-4a97-d408-f58b050aa476"
   },
   "outputs": [
    {
     "data": {
      "image/png": "[encoded data removed]",
      "text/plain": [
       "<Figure size 1080x1080 with 1 Axes>"
      ]
     },
     "metadata": {
      "needs_background": "light"
     },
     "output_type": "display_data"
    }
   ],
   "source": [
    "show_confusion_matrix(y_test.values.astype('int64'), ans)"
   ]
  },
  {
   "cell_type": "markdown",
   "id": "XbKKchqoubkN",
   "metadata": {
    "id": "XbKKchqoubkN"
   },
   "source": [
    "Большинство объектов по прежнему классифицировано верно. Уменьшилось число ошибок на схожих цифрах."
   ]
  },
  {
   "cell_type": "markdown",
   "id": "_oM2gFm1umQy",
   "metadata": {
    "id": "_oM2gFm1umQy"
   },
   "source": [
    "Теперь применим преобразования к тестовой выборке при исходной обучающей выборке и рассмотрим результат работы алгоритма при тех же параметрах"
   ]
  },
  {
   "cell_type": "code",
   "execution_count": 13,
   "id": "S-1r6w8rud3m",
   "metadata": {
    "colab": {
     "base_uri": "https://localhost:8080/"
    },
    "id": "S-1r6w8rud3m",
    "outputId": "60a32f6b-34d5-4d61-97e1-bc6e60201a16"
   },
   "outputs": [
    {
     "name": "stdout",
     "output_type": "stream",
     "text": [
      "accuracy with test augmentation: 0.9755\n"
     ]
    }
   ],
   "source": [
    "clf = KNNClassifier(4, 'brute', 'cosine', True, 1000)\n",
    "source = X_test.copy(deep=True)\n",
    "processed = np.apply_along_axis(np.reshape, 1, source, (28, 28))\n",
    "shifted_pics = shift_transform(processed, inverse_map=SimilarityTransform(translation=(best_set[1], best_set[2]))).reshape((processed.shape[0], 28 * 28))\n",
    "rotated_pics = rotate_transform(processed, angle=best_set[0]).reshape((processed.shape[0], 28 * 28))\n",
    "filtered_pics = gauss_transform(processed, sigma=best_set[3]).reshape((processed.shape[0], 28 * 28))\n",
    "X_test_aug = np.concatenate((source.values, shifted_pics, rotated_pics, filtered_pics), axis=0)\n",
    "y_test_aug = np.concatenate((y_test.values, y_test.values, y_test.values, y_test.values), axis=0)\n",
    "clf.fit(X_train.values, y_train.values)\n",
    "aug_ans = clf.predict(X_test_aug)\n",
    "ans = np.zeros(10000)\n",
    "for i in range(10000):\n",
    "    vals, counts = np.unique([aug_ans[i], aug_ans[i + 10000], aug_ans[i + 20000], aug_ans[i + 30000]], return_counts=True)\n",
    "    idx = np.argmax(counts)\n",
    "    ans[i] = vals[idx]\n",
    "accuracy = (ans == y_test.values.astype('int64')).sum() / y_test.shape[0]\n",
    "print(f'accuracy with test augmentation: {accuracy}')"
   ]
  },
  {
   "cell_type": "markdown",
   "id": "I_fYpk3S3bDz",
   "metadata": {
    "id": "I_fYpk3S3bDz"
   },
   "source": [
    "Данное значение accuracy незначительно лучше точности на исходных данных, причиной чего может быть выбор оптимальных параметров аугментаций не из всего множества сочетаний и не на всей обучающей выборке. "
   ]
  },
  {
   "cell_type": "markdown",
   "id": "-DjC09wT3rH4",
   "metadata": {
    "id": "-DjC09wT3rH4"
   },
   "source": [
    "Рассмотрим матрицу ошибок:"
   ]
  },
  {
   "cell_type": "code",
   "execution_count": 14,
   "id": "w5hjk9ht3mhd",
   "metadata": {
    "colab": {
     "base_uri": "https://localhost:8080/",
     "height": 861
    },
    "id": "w5hjk9ht3mhd",
    "outputId": "23281c05-cfaf-4766-f1b5-286bc26339e9"
   },
   "outputs": [
    {
     "data": {
      "image/png": "[encoded data removed]",
      "text/plain": [
       "<Figure size 1080x1080 with 1 Axes>"
      ]
     },
     "metadata": {
      "needs_background": "light"
     },
     "output_type": "display_data"
    }
   ],
   "source": [
    "show_confusion_matrix(y_test.values.astype('int64'), ans)"
   ]
  },
  {
   "cell_type": "markdown",
   "id": "8YEj1pLP3zTK",
   "metadata": {
    "id": "8YEj1pLP3zTK"
   },
   "source": [
    "В основном объекты все так же классифицированы верно, на схожих объектах допущено чуть меньше ошибок. Преобразование тренировочной выборки дало лучший результат, чем преобразование тестовой. Целесообразно использовать аугментации обеих выборок."
   ]
  },
  {
   "cell_type": "code",
   "execution_count": null,
   "id": "g6NGt8b850uV",
   "metadata": {
    "id": "g6NGt8b850uV"
   },
   "outputs": [],
   "source": []
  }
 ],
 "metadata": {
  "colab": {
   "collapsed_sections": [],
   "name": "Ptask1.ipynb",
   "provenance": []
  },
  "kernelspec": {
   "display_name": "Python 3 (ipykernel)",
   "language": "python",
   "name": "python3"
  },
  "language_info": {
   "codemirror_mode": {
    "name": "ipython",
    "version": 3
   },
   "file_extension": ".py",
   "mimetype": "text/x-python",
   "name": "python",
   "nbconvert_exporter": "python",
   "pygments_lexer": "ipython3",
   "version": "3.8.10"
  }
 },
 "nbformat": 4,
 "nbformat_minor": 5
}
